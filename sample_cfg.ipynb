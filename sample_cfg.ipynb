{
 "cells": [
  {
   "cell_type": "markdown",
   "metadata": {},
   "source": [
    "# 制約された出力サンプル\n",
    "文法規則 CFG に基づいて逐次生成テキストを解析し、制約を加える処理のテスト"
   ]
  },
  {
   "cell_type": "code",
   "execution_count": null,
   "metadata": {},
   "outputs": [],
   "source": [
    "!pip install outlines"
   ]
  },
  {
   "cell_type": "code",
   "execution_count": null,
   "metadata": {},
   "outputs": [],
   "source": [
    "from outlines.fsm.guide import CFGGuide, Generate, RegexGuide, StopAtEOSGuide, Write\n",
    "\n",
    "class MockTokenizer:\n",
    "    # モックのトークナイザーを定義します。簡略化された辞書とトークン変換メソッドを持っています。\n",
    "    vocabulary = {\"(\": 1, \")\": 2, \"7\": 3, \"]\": 4, \"eos\": 5}\n",
    "    special_tokens = {\"eos\"}\n",
    "    eos_token = \"eos\"\n",
    "    eos_token_id = 5\n",
    "\n",
    "    def convert_token_to_string(self, token):\n",
    "        return token  # トークンを文字列に変換するメソッド（ここではそのまま返します）\n",
    "\n",
    "    @property\n",
    "    def inverse_vocabulary(self):\n",
    "        return {v: k for k, v in self.vocabulary.items()}  # 辞書のキーと値を逆転させたものを返します\n",
    "\n",
    "    def decode(self, token_ids):\n",
    "        return [self.inverse_vocabulary[t] for t in token_ids]  # トークンIDを対応する文字列に変換します\n",
    "\n",
    "cfg_str = \"\"\"\n",
    "start: expr\n",
    "\n",
    "expr: \"(\" NUMBER \")\"\n",
    "NUMBER: /[0-9]+/\n",
    "\"\"\"\n",
    "# CFG (Context-Free Grammar) の定義。単純な文法で、数字を括弧で囲んで生成します。\n",
    "\n",
    "tokenizer = MockTokenizer()  # 上記で定義したMockTokenizerをインスタンス化します\n",
    "fsm = CFGGuide(cfg_str, tokenizer)  # CFGとトークナイザーを使ってFSM (Finite State Machine) を作成します\n"
   ]
  },
  {
   "cell_type": "markdown",
   "metadata": {},
   "source": [
    "## 1 文字目の提案"
   ]
  },
  {
   "cell_type": "code",
   "execution_count": null,
   "metadata": {},
   "outputs": [],
   "source": [
    "state = fsm.start_state  # FSM の初期状態を取得\n",
    "instruction = fsm.get_next_instruction(state)  # 次の指示を取得します\n",
    "print(instruction) "
   ]
  },
  {
   "cell_type": "code",
   "execution_count": null,
   "metadata": {},
   "outputs": [],
   "source": [
    "tokenizer.decode(instruction.tokens)  # トークンIDを文字列に変換します"
   ]
  },
  {
   "cell_type": "markdown",
   "metadata": {},
   "source": [
    "## 状態遷移①"
   ]
  },
  {
   "cell_type": "code",
   "execution_count": null,
   "metadata": {},
   "outputs": [],
   "source": [
    "state = fsm.get_next_state(state=fsm.start_state, token_id=1)\n",
    "print(state, fsm.generation)"
   ]
  },
  {
   "cell_type": "markdown",
   "metadata": {},
   "source": [
    "## 2 文字目の提案"
   ]
  },
  {
   "cell_type": "code",
   "execution_count": null,
   "metadata": {},
   "outputs": [],
   "source": [
    "instruction = fsm.get_next_instruction(state)\n",
    "print(instruction)\n",
    "assert isinstance(instruction, Generate)"
   ]
  },
  {
   "cell_type": "markdown",
   "metadata": {},
   "source": [
    "## 状態遷移②"
   ]
  },
  {
   "cell_type": "code",
   "execution_count": null,
   "metadata": {},
   "outputs": [],
   "source": [
    "# 実際の値を投入して、次の状態へ遷移させる\n",
    "state = fsm.get_next_state(state=state, token_id=3)\n",
    "print(state, fsm.generation)"
   ]
  },
  {
   "cell_type": "markdown",
   "metadata": {},
   "source": [
    "## 3 文字目の提案"
   ]
  },
  {
   "cell_type": "code",
   "execution_count": null,
   "metadata": {},
   "outputs": [],
   "source": [
    "instruction = fsm.get_next_instruction(state)\n",
    "print(instruction)\n",
    "assert isinstance(instruction, Generate)"
   ]
  },
  {
   "cell_type": "markdown",
   "metadata": {},
   "source": [
    "## 状態遷移③"
   ]
  },
  {
   "cell_type": "code",
   "execution_count": null,
   "metadata": {},
   "outputs": [],
   "source": [
    "# 実際の値を投入して、次の状態へ遷移させる\n",
    "state = fsm.get_next_state(state=state, token_id=3)\n",
    "print(state, fsm.generation)"
   ]
  },
  {
   "cell_type": "markdown",
   "metadata": {},
   "source": [
    "## n 文字目の提案"
   ]
  },
  {
   "cell_type": "code",
   "execution_count": null,
   "metadata": {},
   "outputs": [],
   "source": [
    "instruction = fsm.get_next_instruction(state)\n",
    "print(instruction)\n",
    "assert isinstance(instruction, Generate)"
   ]
  },
  {
   "cell_type": "code",
   "execution_count": null,
   "metadata": {},
   "outputs": [],
   "source": [
    "state = fsm.get_next_state(state=state, token_id=3)\n",
    "print(state, fsm.generation)"
   ]
  },
  {
   "cell_type": "code",
   "execution_count": null,
   "metadata": {},
   "outputs": [],
   "source": [
    "instruction = fsm.get_next_instruction(state)\n",
    "print(instruction)\n",
    "assert isinstance(instruction, Generate)"
   ]
  },
  {
   "cell_type": "markdown",
   "metadata": {},
   "source": [
    "## 状態遷移n"
   ]
  },
  {
   "cell_type": "code",
   "execution_count": null,
   "metadata": {},
   "outputs": [],
   "source": [
    "state = fsm.get_next_state(state=state, token_id=2)\n",
    "print(state, fsm.generation)"
   ]
  },
  {
   "cell_type": "markdown",
   "metadata": {},
   "source": [
    "## 終端文字の提案"
   ]
  },
  {
   "cell_type": "code",
   "execution_count": null,
   "metadata": {},
   "outputs": [],
   "source": [
    "instruction = fsm.get_next_instruction(state)\n",
    "print(instruction)\n",
    "assert isinstance(instruction, Write)"
   ]
  },
  {
   "cell_type": "code",
   "execution_count": null,
   "metadata": {},
   "outputs": [],
   "source": [
    "state = fsm.get_next_state(state=state, token_id=5)\n",
    "print(state, fsm.generation)"
   ]
  },
  {
   "cell_type": "code",
   "execution_count": null,
   "metadata": {},
   "outputs": [],
   "source": [
    "assert fsm.is_final_state(state)"
   ]
  },
  {
   "cell_type": "markdown",
   "metadata": {},
   "source": [
    "# JSON パースの例"
   ]
  },
  {
   "cell_type": "code",
   "execution_count": null,
   "metadata": {},
   "outputs": [],
   "source": [
    "class MockTokenizer:\n",
    "    vocabulary = {\"{\": 1, \"}\": 2, \"[\": 3, \"]\": 4, \":\": 5, \",\": 6, \"EOS\": 7, \"\\\"key\\\"\": 8, \"\\\"value\\\"\": 9}\n",
    "    special_tokens = {\"EOS\"}\n",
    "    eos_token = \"EOS\"\n",
    "    eos_token_id = 7\n",
    "\n",
    "    def convert_token_to_string(self, token):\n",
    "        return token\n",
    "\n",
    "    @property\n",
    "    def inverse_vocabulary(self):\n",
    "        return {v: k for k, v in self.vocabulary.items()}\n",
    "\n",
    "    def decode(self, token_ids):\n",
    "        return [self.inverse_vocabulary[t] for t in token_ids]\n",
    "\n",
    "# ユーザーからのJSONスキーマの入力\n",
    "cfg_str = \"\"\"\n",
    "?start: value\n",
    "\n",
    "?value: object\n",
    "| array\n",
    "| UNESCAPED_STRING\n",
    "| SIGNED_NUMBER      -> number\n",
    "| \"true\"             -> true\n",
    "| \"false\"            -> false\n",
    "| \"null\"             -> null\n",
    "\n",
    "array  : \"[\" [value (\",\" value)*] \"]\"\n",
    "object : \"{\" [pair (\",\" pair)*] \"}\"\n",
    "pair   : UNESCAPED_STRING \":\" value\n",
    "\n",
    "%import common.UNESCAPED_STRING\n",
    "%import common.SIGNED_NUMBER\n",
    "%import common.WS\n",
    "\n",
    "%ignore WS\n",
    "\"\"\"\n",
    "\n",
    "# トークナイザーインスタンス\n",
    "tokenizer = MockTokenizer()\n",
    "fsm = CFGGuide(cfg_str, tokenizer)\n"
   ]
  },
  {
   "cell_type": "markdown",
   "metadata": {},
   "source": [
    "## 1 文字目の提案\n",
    "token_id: [1, 9, 8, 3] が提案される。"
   ]
  },
  {
   "cell_type": "code",
   "execution_count": null,
   "metadata": {},
   "outputs": [],
   "source": [
    "state = fsm.start_state  # FSM の初期状態を取得\n",
    "instruction = fsm.get_next_instruction(state)  # 次の指示を取得します\n",
    "print(instruction) "
   ]
  },
  {
   "cell_type": "code",
   "execution_count": null,
   "metadata": {},
   "outputs": [],
   "source": [
    "tokenizer.decode(instruction.tokens)  # トークンIDを文字列に変換します"
   ]
  },
  {
   "cell_type": "code",
   "execution_count": null,
   "metadata": {},
   "outputs": [],
   "source": [
    "state = fsm.get_next_state(state=fsm.start_state, token_id=1)\n",
    "print(state, fsm.generation)"
   ]
  },
  {
   "cell_type": "code",
   "execution_count": null,
   "metadata": {},
   "outputs": [],
   "source": [
    "instruction = fsm.get_next_instruction(state)  # 次の指示を取得します\n",
    "print(instruction) "
   ]
  },
  {
   "cell_type": "code",
   "execution_count": null,
   "metadata": {},
   "outputs": [],
   "source": [
    "tokenizer.decode(instruction.tokens)"
   ]
  },
  {
   "cell_type": "code",
   "execution_count": null,
   "metadata": {},
   "outputs": [],
   "source": [
    "state = fsm.get_next_state(state=fsm.start_state, token_id=8)\n",
    "print(state, fsm.generation)"
   ]
  },
  {
   "cell_type": "code",
   "execution_count": null,
   "metadata": {},
   "outputs": [],
   "source": [
    "instruction = fsm.get_next_instruction(state)  # 次の指示を取得します\n",
    "print(instruction) "
   ]
  },
  {
   "cell_type": "code",
   "execution_count": null,
   "metadata": {},
   "outputs": [],
   "source": [
    "state = fsm.get_next_state(state=fsm.start_state, token_id=5)\n",
    "print(state, fsm.generation)"
   ]
  },
  {
   "cell_type": "code",
   "execution_count": null,
   "metadata": {},
   "outputs": [],
   "source": [
    "instruction = fsm.get_next_instruction(state)  # 次の指示を取得します\n",
    "print(instruction) "
   ]
  },
  {
   "cell_type": "code",
   "execution_count": null,
   "metadata": {},
   "outputs": [],
   "source": [
    "state = fsm.get_next_state(state=fsm.start_state, token_id=9)\n",
    "print(state, fsm.generation)"
   ]
  },
  {
   "cell_type": "code",
   "execution_count": null,
   "metadata": {},
   "outputs": [],
   "source": [
    "instruction = fsm.get_next_instruction(state)  # 次の指示を取得します\n",
    "print(instruction) "
   ]
  },
  {
   "cell_type": "code",
   "execution_count": null,
   "metadata": {},
   "outputs": [],
   "source": [
    "state = fsm.get_next_state(state=fsm.start_state, token_id=2)\n",
    "print(state, fsm.generation)"
   ]
  },
  {
   "cell_type": "code",
   "execution_count": null,
   "metadata": {},
   "outputs": [],
   "source": []
  }
 ],
 "metadata": {
  "kernelspec": {
   "display_name": "py1226",
   "language": "python",
   "name": "python3"
  },
  "language_info": {
   "codemirror_mode": {
    "name": "ipython",
    "version": 3
   },
   "file_extension": ".py",
   "mimetype": "text/x-python",
   "name": "python",
   "nbconvert_exporter": "python",
   "pygments_lexer": "ipython3",
   "version": "3.10.13"
  }
 },
 "nbformat": 4,
 "nbformat_minor": 2
}
